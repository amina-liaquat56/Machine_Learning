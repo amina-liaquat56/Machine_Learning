{
 "cells": [
  {
   "cell_type": "markdown",
   "id": "efa7f47f",
   "metadata": {},
   "source": [
    "# 📊 Model Evaluation and Optimization\n",
    "This notebook demonstrates evaluation metrics and techniques in regression and classification, as well as strategies for handling imbalanced data and introducing differential privacy in model training."
   ]
  },
  {
   "cell_type": "markdown",
   "id": "0665e648",
   "metadata": {},
   "source": [
    "## 📈 Regression Metrics"
   ]
  },
  {
   "cell_type": "code",
   "execution_count": null,
   "id": "50355c0a",
   "metadata": {},
   "outputs": [],
   "source": [
    "\n",
    "from sklearn.metrics import mean_absolute_error, mean_squared_error, r2_score\n",
    "\n",
    "y_true = [3.0, -0.5, 2.0, 7.0]\n",
    "y_pred = [2.5, 0.0, 2.1, 7.8]\n",
    "\n",
    "mae = mean_absolute_error(y_true, y_pred)\n",
    "mse = mean_squared_error(y_true, y_pred)\n",
    "r2 = r2_score(y_true, y_pred)\n",
    "\n",
    "print(f\"MAE: {mae:.2f}, MSE: {mse:.2f}, R²: {r2:.2f}\")\n"
   ]
  },
  {
   "cell_type": "markdown",
   "id": "24815ebf",
   "metadata": {},
   "source": [
    "## 🧠 Classification Metrics"
   ]
  },
  {
   "cell_type": "code",
   "execution_count": null,
   "id": "699b1db7",
   "metadata": {},
   "outputs": [],
   "source": [
    "\n",
    "from sklearn.metrics import accuracy_score, precision_score, recall_score, f1_score, confusion_matrix\n",
    "\n",
    "y_true = [0, 1, 1, 0, 1, 0]\n",
    "y_pred = [0, 1, 0, 0, 1, 1]\n",
    "\n",
    "acc = accuracy_score(y_true, y_pred)\n",
    "precision = precision_score(y_true, y_pred)\n",
    "recall = recall_score(y_true, y_pred)\n",
    "f1 = f1_score(y_true, y_pred)\n",
    "cm = confusion_matrix(y_true, y_pred)\n",
    "\n",
    "print(f\"Accuracy: {acc:.2f}, Precision: {precision:.2f}, Recall: {recall:.2f}, F1 Score: {f1:.2f}\")\n",
    "print(\"Confusion Matrix:\\n\", cm)\n"
   ]
  },
  {
   "cell_type": "markdown",
   "id": "032366cd",
   "metadata": {},
   "source": [
    "## ⚖️ Handling Imbalanced Data using SMOTE"
   ]
  },
  {
   "cell_type": "code",
   "execution_count": null,
   "id": "e77582d3",
   "metadata": {},
   "outputs": [],
   "source": [
    "\n",
    "from sklearn.datasets import make_classification\n",
    "from imblearn.over_sampling import SMOTE\n",
    "from collections import Counter\n",
    "\n",
    "X, y = make_classification(n_samples=1000, n_features=2, weights=[0.9], flip_y=0, random_state=1)\n",
    "print(\"Before SMOTE:\", Counter(y))\n",
    "\n",
    "smote = SMOTE(random_state=42)\n",
    "X_res, y_res = smote.fit_resample(X, y)\n",
    "print(\"After SMOTE:\", Counter(y_res))\n"
   ]
  },
  {
   "cell_type": "markdown",
   "id": "e0aefb39",
   "metadata": {},
   "source": [
    "## 📉 Underfitting vs Overfitting (Visualization)"
   ]
  },
  {
   "cell_type": "code",
   "execution_count": null,
   "id": "dcf83812",
   "metadata": {},
   "outputs": [],
   "source": [
    "\n",
    "import matplotlib.pyplot as plt\n",
    "import numpy as np\n",
    "from sklearn.linear_model import LinearRegression\n",
    "from sklearn.preprocessing import PolynomialFeatures\n",
    "\n",
    "np.random.seed(0)\n",
    "X = np.sort(5 * np.random.rand(80, 1), axis=0)\n",
    "y = np.sin(X).ravel() + np.random.normal(0, 0.2, X.shape[0])\n",
    "\n",
    "plt.scatter(X, y, color='black', label='data')\n",
    "\n",
    "# Underfitting\n",
    "model_linear = LinearRegression().fit(X, y)\n",
    "plt.plot(X, model_linear.predict(X), color='red', label='Underfit (Linear)')\n",
    "\n",
    "# Overfitting\n",
    "poly = PolynomialFeatures(degree=15)\n",
    "X_poly = poly.fit_transform(X)\n",
    "model_poly = LinearRegression().fit(X_poly, y)\n",
    "plt.plot(X, model_poly.predict(X_poly), color='blue', label='Overfit (Poly deg=15)')\n",
    "\n",
    "plt.legend()\n",
    "plt.title(\"Underfitting vs Overfitting\")\n",
    "plt.show()\n"
   ]
  },
  {
   "cell_type": "markdown",
   "id": "df6a68c8",
   "metadata": {},
   "source": [
    "## 🔐 Differential Privacy in Model Optimization (Concept Only)"
   ]
  },
  {
   "cell_type": "code",
   "execution_count": null,
   "id": "82605a39",
   "metadata": {},
   "outputs": [],
   "source": [
    "\n",
    "# DP-SGD example with PyTorch and Opacus\n",
    "# NOTE: Install packages before running\n",
    "# pip install torch torchvision opacus\n",
    "\n",
    "import torch\n",
    "from torch import nn, optim\n",
    "from torchvision import datasets, transforms\n",
    "from torch.utils.data import DataLoader\n",
    "from opacus import PrivacyEngine\n",
    "\n",
    "transform = transforms.Compose([transforms.ToTensor()])\n",
    "train_loader = DataLoader(datasets.MNIST('.', train=True, download=True, transform=transform), batch_size=64, shuffle=True)\n",
    "\n",
    "model = nn.Sequential(\n",
    "    nn.Flatten(),\n",
    "    nn.Linear(28 * 28, 128),\n",
    "    nn.ReLU(),\n",
    "    nn.Linear(128, 10)\n",
    ")\n",
    "\n",
    "optimizer = optim.SGD(model.parameters(), lr=0.01)\n",
    "privacy_engine = PrivacyEngine()\n",
    "model, optimizer, train_loader = privacy_engine.make_private(\n",
    "    module=model,\n",
    "    optimizer=optimizer,\n",
    "    data_loader=train_loader,\n",
    "    noise_multiplier=1.0,\n",
    "    max_grad_norm=1.0,\n",
    ")\n",
    "\n",
    "print(\"Differential privacy enabled model ready for training.\")\n"
   ]
  }
 ],
 "metadata": {},
 "nbformat": 4,
 "nbformat_minor": 5
}
